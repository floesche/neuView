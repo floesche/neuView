{
 "cells": [
  {
   "cell_type": "code",
   "execution_count": null,
   "id": "7cebd66a",
   "metadata": {},
   "outputs": [],
   "source": [
    "from pathlib import Path\n",
    "import sys\n",
    "import os\n",
    "from dotenv import find_dotenv\n",
    "PROJECT_ROOT = Path(find_dotenv()).parent\n",
    "sys.path.append(str(PROJECT_ROOT.joinpath('src')))\n",
    "from neuprint import Client, fetch_neurons, fetch_adjacencies, NeuronCriteria as NC, fetch_custom, fetch_roi_hierarchy\n",
    "c = Client('neuprint-cns.janelia.org', dataset='cns', token=os.environ['NEUPRINT_TOKEN'])\n",
    "import pandas as pd"
   ]
  },
  {
   "cell_type": "code",
   "execution_count": null,
   "id": "3d1f9613",
   "metadata": {},
   "outputs": [],
   "source": [
    "neuron_type_name = \"DNc02\"\n",
    "instance_name = \"DNc02(SIFa)_R\""
   ]
  },
  {
   "cell_type": "code",
   "execution_count": null,
   "id": "3c960469",
   "metadata": {},
   "outputs": [],
   "source": [
    "criteria = NC(instance=instance_name, regex=False)\n",
    "neurons_df, roi_df = fetch_neurons(criteria)"
   ]
  },
  {
   "cell_type": "code",
   "execution_count": null,
   "id": "8cbd6468",
   "metadata": {},
   "outputs": [],
   "source": [
    "# Add neurotransmitter fields via separate query if neurons were found\n",
    "if not neurons_df.empty:\n",
    "    body_ids = neurons_df['bodyId'].tolist()\n",
    "    body_ids_str = \"[\" + \", \".join(str(bid) for bid in body_ids) + \"]\"\n",
    "\n",
    "    # Query for neurotransmitter and class fields\n",
    "    nt_query = f\"\"\"\n",
    "    UNWIND {body_ids_str} as target_body_id\n",
    "    MATCH (n:Neuron {{bodyId: target_body_id}})\n",
    "    RETURN\n",
    "        target_body_id as bodyId,\n",
    "        n.consensusNt as consensusNt,\n",
    "        n.celltypePredictedNt as celltypePredictedNt,\n",
    "        n.celltypePredictedNtConfidence as celltypePredictedNtConfidence,\n",
    "        n.celltypeTotalNtPredictions as celltypeTotalNtPredictions,\n",
    "        n.class as cellClass,\n",
    "        n.subclass as cellSubclass,\n",
    "        n.superclass as cellSuperclass\n",
    "    \"\"\"\n",
    "\n",
    "\n",
    "    nt_df = c.fetch_custom(nt_query)\n",
    "    if not nt_df.empty:\n",
    "        # Merge neurotransmitter data with neurons_df\n",
    "        neurons_df = neurons_df.merge(nt_df, on='bodyId', how='left')\n"
   ]
  },
  {
   "cell_type": "code",
   "execution_count": null,
   "id": "bfb2307e",
   "metadata": {},
   "outputs": [],
   "source": [
    "neurons_df"
   ]
  },
  {
   "cell_type": "code",
   "execution_count": null,
   "id": "57ee9e32",
   "metadata": {},
   "outputs": [],
   "source": [
    "neurons_df.roiInfo.to_dict()"
   ]
  },
  {
   "cell_type": "markdown",
   "id": "4c2ce5ca",
   "metadata": {},
   "source": [
    " 'LO_L_layer_1': {'post': 41,\n",
    "   'pre': 139,\n",
    "   'downstream': 404,\n",
    "   'upstream': 41,\n",
    "   'synweight': 445},\n",
    "  'LO_L_layer_2': {'post': 26,\n",
    "   'pre': 60,\n",
    "   'downstream': 165,\n",
    "   'upstream': 26,\n",
    "   'synweight': 191},\n",
    "  'LO_L_layer_7': {'pre': 2, 'downstream': 4, 'synweight': 4},"
   ]
  },
  {
   "cell_type": "markdown",
   "id": "cae87696",
   "metadata": {},
   "source": [
    "'ME_L_layer_02': {'pre': 1, 'downstream': 2, 'synweight': 2},\n",
    "  'ME_L_layer_03': {'post': 6,\n",
    "   'pre': 25,\n",
    "   'downstream': 84,\n",
    "   'upstream': 6,\n",
    "   'synweight': 90},\n",
    "  'ME_L_layer_04': {'post': 17,\n",
    "   'pre': 37,\n",
    "   'downstream': 120,\n",
    "   'upstream': 17,\n",
    "   'synweight': 137},\n",
    "  'ME_L_layer_05': {'post': 28,\n",
    "   'pre': 23,\n",
    "   'downstream': 72,\n",
    "   'upstream': 28,\n",
    "   'synweight': 100},\n",
    "  'ME_L_layer_06': {'post': 25,\n",
    "   'pre': 19,\n",
    "   'downstream': 62,\n",
    "   'upstream': 25,\n",
    "   'synweight': 87},\n",
    "  'ME_L_layer_08': {'post': 2,\n",
    "   'pre': 9,\n",
    "   'downstream': 29,\n",
    "   'upstream': 2,\n",
    "   'synweight': 31},\n",
    "  'ME_L_layer_09': {'post': 41,\n",
    "   'pre': 91,\n",
    "   'downstream': 272,\n",
    "   'upstream': 41,\n",
    "   'synweight': 313},\n",
    "  'ME_L_layer_10': {'post': 62,\n",
    "   'pre': 110,\n",
    "   'downstream': 311,\n",
    "   'upstream': 62,\n",
    "   'synweight': 373},"
   ]
  },
  {
   "cell_type": "code",
   "execution_count": null,
   "id": "ec621f94",
   "metadata": {},
   "outputs": [],
   "source": [
    "roi_df"
   ]
  },
  {
   "cell_type": "code",
   "execution_count": null,
   "id": "0d532650",
   "metadata": {},
   "outputs": [],
   "source": [
    "mask = roi_df['roi'].str.contains('layer', na=False)\n",
    "layer_rows = roi_df[mask]"
   ]
  },
  {
   "cell_type": "code",
   "execution_count": null,
   "id": "1cb23aa3",
   "metadata": {},
   "outputs": [],
   "source": [
    "layer_rows"
   ]
  },
  {
   "cell_type": "code",
   "execution_count": null,
   "id": "a61cd394",
   "metadata": {},
   "outputs": [],
   "source": [
    "sum(layer_rows['post'])"
   ]
  },
  {
   "cell_type": "markdown",
   "id": "dfd71d60",
   "metadata": {},
   "source": [
    "Add query to check post synapses between this instance type & neurons versus segments"
   ]
  },
  {
   "cell_type": "code",
   "execution_count": null,
   "id": "c33fcc71",
   "metadata": {},
   "outputs": [],
   "source": [
    "cql = f\"\"\"\n",
    "MATCH (n:Neuron)<-[e:ConnectsTo]-(m:Neuron)\n",
    "WHERE n.instance = '{instance_name}'\n",
    "AND (NOT m.type IS NULL AND NOT m.instance IS NULL)\n",
    "RETURN n.bodyId, m.bodyId, m.status, apoc.convert.fromJsonMap(e.roiInfo) as roiInfo\n",
    "\"\"\""
   ]
  },
  {
   "cell_type": "code",
   "execution_count": null,
   "id": "db6bb006",
   "metadata": {},
   "outputs": [],
   "source": [
    "df = c.fetch_custom(cql)\n",
    "df"
   ]
  },
  {
   "cell_type": "code",
   "execution_count": null,
   "id": "ee06c96f",
   "metadata": {},
   "outputs": [],
   "source": [
    "df['keys(e)'].roiIno"
   ]
  }
 ],
 "metadata": {
  "kernelspec": {
   "display_name": "Python 3",
   "language": "python",
   "name": "python3"
  },
  "language_info": {
   "codemirror_mode": {
    "name": "ipython",
    "version": 3
   },
   "file_extension": ".py",
   "mimetype": "text/x-python",
   "name": "python",
   "nbconvert_exporter": "python",
   "pygments_lexer": "ipython3",
   "version": "3.13.5"
  }
 },
 "nbformat": 4,
 "nbformat_minor": 5
}
