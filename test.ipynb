{
 "cells": [
  {
   "cell_type": "code",
   "execution_count": null,
   "id": "59fe18ae",
   "metadata": {},
   "outputs": [],
   "source": [
    "from pathlib import Path\n",
    "import sys\n",
    "import os\n",
    "from dotenv import find_dotenv\n",
    "PROJECT_ROOT = Path(find_dotenv()).parent\n",
    "sys.path.append(str(PROJECT_ROOT.joinpath('src')))\n",
    "from neuprint import Client, fetch_neurons, fetch_adjacencies, NeuronCriteria as NC"
   ]
  },
  {
   "cell_type": "code",
   "execution_count": null,
   "id": "420856bb",
   "metadata": {},
   "outputs": [],
   "source": [
    "c = Client('neuprint.janelia.org', dataset='optic-lobe:v1.1', token=os.environ['NEUPRINT_TOKEN'])"
   ]
  },
  {
   "cell_type": "code",
   "execution_count": null,
   "id": "493c4e26",
   "metadata": {},
   "outputs": [],
   "source": [
    "instance = \"H2_R\"\n",
    "roi = \"LOP(R)\""
   ]
  },
  {
   "cell_type": "code",
   "execution_count": null,
   "id": "c542cf30",
   "metadata": {},
   "outputs": [],
   "source": [
    "[neuron_df, cxn_df] = fetch_neurons(NC(instance=instance))"
   ]
  },
  {
   "cell_type": "code",
   "execution_count": null,
   "id": "398a753c",
   "metadata": {},
   "outputs": [],
   "source": [
    "cxn_df"
   ]
  },
  {
   "cell_type": "code",
   "execution_count": null,
   "id": "d93a0f42",
   "metadata": {},
   "outputs": [],
   "source": [
    "# Downstream connections\n",
    "n_df_out, cxn_df_out = fetch_adjacencies(targets=NC(instance=instance, status='Traced'), sources=None)"
   ]
  },
  {
   "cell_type": "code",
   "execution_count": null,
   "id": "4c605038",
   "metadata": {},
   "outputs": [],
   "source": [
    "# PER ROI CONNECTIONS PER INSTANCE TYPE.\n",
    "cxn_df_out.groupby(['roi'])['weight'].sum().sort_values(ascending=False)"
   ]
  },
  {
   "cell_type": "code",
   "execution_count": null,
   "id": "ebe82085",
   "metadata": {},
   "outputs": [],
   "source": []
  },
  {
   "cell_type": "code",
   "execution_count": null,
   "id": "8cdd01bd",
   "metadata": {},
   "outputs": [],
   "source": []
  },
  {
   "cell_type": "code",
   "execution_count": null,
   "id": "48375ded",
   "metadata": {},
   "outputs": [],
   "source": []
  },
  {
   "cell_type": "code",
   "execution_count": null,
   "id": "0ca23de3",
   "metadata": {},
   "outputs": [],
   "source": []
  },
  {
   "cell_type": "code",
   "execution_count": null,
   "id": "df39b6f6",
   "metadata": {},
   "outputs": [],
   "source": []
  }
 ],
 "metadata": {
  "kernelspec": {
   "display_name": "Python 3",
   "language": "python",
   "name": "python3"
  },
  "language_info": {
   "codemirror_mode": {
    "name": "ipython",
    "version": 3
   },
   "file_extension": ".py",
   "mimetype": "text/x-python",
   "name": "python",
   "nbconvert_exporter": "python",
   "pygments_lexer": "ipython3",
   "version": "3.13.5"
  }
 },
 "nbformat": 4,
 "nbformat_minor": 5
}
