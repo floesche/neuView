{
 "cells": [
  {
   "cell_type": "code",
   "execution_count": null,
   "id": "ea6ae5da",
   "metadata": {},
   "outputs": [],
   "source": [
    "import os\n",
    "from dotenv import load_dotenv\n",
    "load_dotenv()\n",
    "from neuprint import NeuronCriteria as NC, fetch_neurons, Client\n",
    "from neuprint.queries import fetch_primary_rois"
   ]
  },
  {
   "cell_type": "code",
   "execution_count": null,
   "id": "95fa2f84",
   "metadata": {},
   "outputs": [],
   "source": [
    "token = os.getenv('NEUPRINT_TOKEN')\n",
    "server = os.getenv('NEUPRINT_SERVER')\n",
    "dataset = os.getenv('NEUPRINT_DATASET')\n",
    "c = Client(server, dataset=dataset, token=token)"
   ]
  },
  {
   "cell_type": "code",
   "execution_count": null,
   "id": "95dd5664",
   "metadata": {},
   "outputs": [],
   "source": [
    "neuron_type = \"DNc02\""
   ]
  },
  {
   "cell_type": "code",
   "execution_count": null,
   "id": "2aaba18c",
   "metadata": {},
   "outputs": [],
   "source": [
    "criteria = NC(type=neuron_type, regex=False)\n",
    "neurons_df, roi_df = fetch_neurons(criteria)"
   ]
  },
  {
   "cell_type": "code",
   "execution_count": null,
   "id": "b3eac770",
   "metadata": {},
   "outputs": [],
   "source": [
    "neurons_df[neurons_df['instance']=='DNc02(SIFa)_R'].post\n",
    "# Total number of post synapses = 1995. Same as our card at the top of the page."
   ]
  },
  {
   "cell_type": "code",
   "execution_count": null,
   "id": "580befc4",
   "metadata": {},
   "outputs": [],
   "source": [
    "roi_df"
   ]
  },
  {
   "cell_type": "code",
   "execution_count": null,
   "id": "830ef6e9",
   "metadata": {},
   "outputs": [],
   "source": [
    "# Extract data only for the one DNc02_R neuron.\n",
    "roi_df2 = roi_df[roi_df[\"bodyId\"]==10342].copy()\n",
    "roi_df2"
   ]
  },
  {
   "cell_type": "code",
   "execution_count": null,
   "id": "c4b448ed",
   "metadata": {},
   "outputs": [],
   "source": [
    "# Only keep primary ROIS\n",
    "all_rois = fetch_primary_rois()\n",
    "all_rois"
   ]
  },
  {
   "cell_type": "code",
   "execution_count": null,
   "id": "da02a9e4",
   "metadata": {},
   "outputs": [],
   "source": [
    "# Extract data only for the primary ROIs for this one neuron.\n",
    "roi_df3 = roi_df2[roi_df2[\"roi\"].isin(all_rois)].copy()\n",
    "roi_df3"
   ]
  },
  {
   "cell_type": "code",
   "execution_count": null,
   "id": "88f0b4c8",
   "metadata": {},
   "outputs": [],
   "source": [
    "# Find the total number of post synapses within the primary ROIs.\n",
    "roi_df3['post'].sum() \n",
    "# 1995 - matches the total number of "
   ]
  },
  {
   "cell_type": "code",
   "execution_count": null,
   "id": "44529cc5",
   "metadata": {},
   "outputs": [],
   "source": [
    "roi_df3[roi_df3['roi']=='ME(L)'].post\n",
    "# 181 post synapses within ME(L)"
   ]
  },
  {
   "cell_type": "code",
   "execution_count": null,
   "id": "88d1d331",
   "metadata": {},
   "outputs": [],
   "source": [
    "# Calculate the total number of post synapses for the layer ROIs within ME(L)\n",
    "roi_df4 = roi_df2[roi_df2['roi'].str.contains('ME_L_layer', na=False)].copy()\n",
    "roi_df4"
   ]
  },
  {
   "cell_type": "code",
   "execution_count": null,
   "id": "90491af5",
   "metadata": {},
   "outputs": [],
   "source": [
    "roi_df4['post'].sum() \n",
    "# = 181 synapses, matches the number from the primary ROI. "
   ]
  },
  {
   "cell_type": "code",
   "execution_count": null,
   "id": "aa0ae4d6",
   "metadata": {},
   "outputs": [],
   "source": [
    "# Calculate the total number of post synapses for the column ROIs within ME(L)\n",
    "roi_df5 = roi_df2[roi_df2['roi'].str.contains('ME_L_col', na=False)].copy()\n",
    "roi_df5"
   ]
  },
  {
   "cell_type": "code",
   "execution_count": null,
   "id": "d3f0c32c",
   "metadata": {},
   "outputs": [],
   "source": [
    "# Sum the number of post synapses across all of the column ROIs within ME(L). \n",
    "roi_df5['post'].sum()\n",
    "# 181"
   ]
  },
  {
   "cell_type": "code",
   "execution_count": null,
   "id": "b550896f",
   "metadata": {},
   "outputs": [],
   "source": [
    "# From our page, there are 1911 post synapses within the \"Central Brain\" for DNc02(SIFa)_R. \n",
    "\n",
    "# Here I have extracted the data for\n",
    "roi_df6 = roi_df2[roi_df2['roi'].str.contains('CentralBrain', na=False)].copy()\n",
    "roi_df6"
   ]
  },
  {
   "cell_type": "code",
   "execution_count": null,
   "id": "eef36271",
   "metadata": {},
   "outputs": [],
   "source": [
    "# It seems that our number for \"CentralBrain\" is comprised of BOTH \"Central Brain\" and \"CentralBrain-unspecified\". \n",
    "roi_df6['post'].sum()\n",
    "# 1911"
   ]
  },
  {
   "cell_type": "code",
   "execution_count": null,
   "id": "6efec473",
   "metadata": {},
   "outputs": [],
   "source": [
    "# However, the total number of post synapses is made up of ONLY primary ROI numbers to avoid double counting. "
   ]
  },
  {
   "cell_type": "code",
   "execution_count": null,
   "id": "1ca31782",
   "metadata": {},
   "outputs": [],
   "source": [
    "from neuprint import fetch_roi_hierarchy"
   ]
  },
  {
   "cell_type": "code",
   "execution_count": null,
   "id": "9d6cb3ad",
   "metadata": {},
   "outputs": [],
   "source": [
    "hir = fetch_roi_hierarchy()\n",
    "hir['CNS']['CentralBrain']"
   ]
  },
  {
   "cell_type": "code",
   "execution_count": null,
   "id": "c0fbe9fc",
   "metadata": {},
   "outputs": [],
   "source": [
    "# \"CentralBrain\" in primary_rois contains \"CentralBrain-unspecified\" - so in our layer tables we are double counting \"CentralBrain-unspecified\""
   ]
  }
 ],
 "metadata": {
  "kernelspec": {
   "display_name": "Python 3",
   "language": "python",
   "name": "python3"
  },
  "language_info": {
   "codemirror_mode": {
    "name": "ipython",
    "version": 3
   },
   "file_extension": ".py",
   "mimetype": "text/x-python",
   "name": "python",
   "nbconvert_exporter": "python",
   "pygments_lexer": "ipython3",
   "version": "3.13.7"
  }
 },
 "nbformat": 4,
 "nbformat_minor": 5
}
