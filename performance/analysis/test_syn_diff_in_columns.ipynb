{
 "cells": [
  {
   "cell_type": "markdown",
   "id": "3be8fadf",
   "metadata": {},
   "source": [
    "Test difference in synapse numbers per column between \"fetch_neurons\" and query. "
   ]
  },
  {
   "cell_type": "code",
   "execution_count": null,
   "id": "7896304f",
   "metadata": {},
   "outputs": [],
   "source": [
    "from pathlib import Path\n",
    "import sys\n",
    "import os\n",
    "from dotenv import find_dotenv\n",
    "PROJECT_ROOT = Path(find_dotenv()).parent\n",
    "sys.path.append(str(PROJECT_ROOT.joinpath('src')))\n",
    "from neuprint import Client, fetch_neurons, NeuronCriteria as NC, fetch_custom\n",
    "from neuview.config import Config\n",
    "config = Config.load(PROJECT_ROOT / 'config.yaml')\n",
    "c = Client(config.neuprint.server, dataset=config.neuprint.dataset, token=os.environ['NEUPRINT_TOKEN'])"
   ]
  },
  {
   "cell_type": "markdown",
   "id": "8a59a997",
   "metadata": {},
   "source": [
    "When printing the \"row\" entry for \"ME_col_01_07\" in `PageGenerator._get_col_layer_values`:\n",
    "\n",
    "\"\"\" \n",
    "\n",
    "# Convert to list of dictionaries for template\n",
    "        column_summary = []\n",
    "        for _, row in neurons_per_column.iterrows():\n",
    "            key = (row['region'], row['side'], row['hex1_dec'], row['hex2_dec'])\n",
    "            if (row['region'], row['side'], row['hex1_dec'], row['hex2_dec']) == (\"ME\", \"R\", 1, 7):\n",
    "                print(row)\n",
    "\n",
    "\"\"\"\n",
    "\n",
    "It returns:\n",
    "\n",
    "region                                                                  ME<br>\n",
    "side                                                                     R<br>\n",
    "hex1_dec                                                                 1<br>\n",
    "hex2_dec                                                                 7<br>\n",
    "bodyId                                                                   4<br>\n",
    "pre                                                                      4<br>\n",
    "post                                                                    74<br>\n",
    "total                                                                   78<br>\n",
    "mean_pre_per_neuron                                                    1.0<br>\n",
    "mean_post_per_neuron                                                  18.5<br>\n",
    "mean_total_per_neuron                                                 19.5<br>\n",
    "synapses_list                            [0, 1, 0, 16, 57, 0, 0, 0, 0, 32]<br>\n",
    "neurons_list                                [0, 1, 0, 1, 4, 0, 0, 0, 0, 1]<br>\n",
    "synapse_colors           [#ffffff, #fee5d9, #ffffff, #fee5d9, #fee5d9, ...<br>\n",
    "neuron_colors            [#ffffff, #fee5d9, #ffffff, #fee5d9, #fcbba1, ...<br>\n",
    "synapses_total                                                       106.0<br>\n",
    "\n",
    "So, from fetch_neurons - - 4 pre + 74 post synapses within this column for TmY3. Therefore a total of 78 synapses. <br>\n",
    "But from the query there are a total of 106 synapses in this column. \n"
   ]
  },
  {
   "cell_type": "markdown",
   "id": "9aa3e1a7",
   "metadata": {},
   "source": [
    "1. What is returned from \"fetch_neurons\""
   ]
  },
  {
   "cell_type": "code",
   "execution_count": null,
   "id": "187356b0",
   "metadata": {},
   "outputs": [],
   "source": [
    "type_neuron = \"TmY3\"\n",
    "[neuron_df, roi_df] = fetch_neurons(NC(type=type_neuron))"
   ]
  },
  {
   "cell_type": "code",
   "execution_count": null,
   "id": "45de1d85",
   "metadata": {},
   "outputs": [],
   "source": [
    "bodyId = 68242"
   ]
  },
  {
   "cell_type": "code",
   "execution_count": null,
   "id": "286d5d85",
   "metadata": {},
   "outputs": [],
   "source": [
    "roi_df[roi_df['roi']==\"ME_R_col_01_07\"]"
   ]
  },
  {
   "cell_type": "code",
   "execution_count": null,
   "id": "44f2e1c6",
   "metadata": {},
   "outputs": [],
   "source": [
    "## From \"fetch_neurons\" - - - roi_df\n",
    "\n",
    "# Across all bodyIds:\n",
    "# sum pre = 4\n",
    "# sum post = (5+49+6+14) = 74\n",
    "# sum all = 78\n",
    "\n",
    "# For the bodyId 68242:\n",
    "# pre = 4\n",
    "# post = 49\n",
    "# total = 53"
   ]
  },
  {
   "cell_type": "markdown",
   "id": "68ae8e32",
   "metadata": {},
   "source": [
    "2. What is returned from the query used in `PageGenerator._get_col_layer_values`. (Added returning the number of \"pre/post\" specifically.)"
   ]
  },
  {
   "cell_type": "code",
   "execution_count": null,
   "id": "b3edb944",
   "metadata": {},
   "outputs": [],
   "source": [
    "# Query in PageGenerator\n",
    "query = fr\"\"\"\n",
    "        MATCH (n:Neuron)-[:Contains]->(nss:SynapseSet)-[:Contains]->(ns:Synapse)\n",
    "        WHERE n.type = '{type_neuron}'\n",
    "        WITH ns,\n",
    "        CASE\n",
    "            WHEN exists(ns['ME(R)'])  THEN ['ME','R']\n",
    "            WHEN exists(ns['ME(L)'])  THEN ['ME','L']\n",
    "            WHEN exists(ns['LO(R)'])  THEN ['LO','R']\n",
    "            WHEN exists(ns['LO(L)'])  THEN ['LO','L']\n",
    "            WHEN exists(ns['LOP(R)']) THEN ['LOP','R']\n",
    "            WHEN exists(ns['LOP(L)']) THEN ['LOP','L']\n",
    "        END AS layerKey\n",
    "        WITH ns, layerKey\n",
    "        WHERE layerKey IS NOT NULL\n",
    "        RETURN\n",
    "        ns.olHex1 AS hex1_dec,\n",
    "        ns.olHex2 AS hex2_dec,\n",
    "        ns.olLayer AS layer,\n",
    "        layerKey[0] AS region,\n",
    "        layerKey[1] AS side,\n",
    "        count(ns) AS total_synapses,\n",
    "        sum(CASE WHEN ns.type = 'pre'  THEN 1 ELSE 0 END)  AS n_pre,\n",
    "        sum(CASE WHEN ns.type = 'post' THEN 1 ELSE 0 END)  AS n_post,\n",
    "        ns.bodyId AS bodyId,\n",
    "        count(DISTINCT ns.bodyId) AS neuron_count\n",
    "        ORDER BY hex1_dec, hex2_dec, layer\n",
    "        \"\"\"\n",
    "df = c.fetch_custom(query)\n",
    "df = df.dropna(subset=['layer'])\n",
    "df['layer'] = df['layer'].astype(int)"
   ]
  },
  {
   "cell_type": "code",
   "execution_count": null,
   "id": "a561499a",
   "metadata": {},
   "outputs": [],
   "source": [
    "# For all bodyIds within the column. \n",
    "df_sub1 = df[\n",
    "    (df['region'] == \"ME\") &\n",
    "    (df['side'] == \"R\") &\n",
    "    (df['hex1_dec'] == 1) &\n",
    "    (df['hex2_dec'] == 7)\n",
    "]\n",
    "df_sub1"
   ]
  },
  {
   "cell_type": "code",
   "execution_count": null,
   "id": "75944243",
   "metadata": {},
   "outputs": [],
   "source": [
    "# Totals across all bodyIds within the column. \n",
    "df_sub1['n_post'].sum() # 74\n",
    "df_sub1['n_pre'].sum() # 32\n",
    "df_sub1['total_synapses'].sum() # 106"
   ]
  },
  {
   "cell_type": "code",
   "execution_count": null,
   "id": "1d40fc7f",
   "metadata": {},
   "outputs": [],
   "source": [
    "# For one bodyId\n",
    "\n",
    "df_sub = df[\n",
    "    (df['bodyId'] == bodyId) &\n",
    "    (df['region'] == \"ME\") &\n",
    "    (df['side'] == \"R\") &\n",
    "    (df['hex1_dec'] == 1) &\n",
    "    (df['hex2_dec'] == 7)\n",
    "]\n",
    "df_sub"
   ]
  },
  {
   "cell_type": "code",
   "execution_count": null,
   "id": "9ed48348",
   "metadata": {},
   "outputs": [],
   "source": [
    "# Total synapses for just the one boydId:\n",
    "\n",
    "# sum total - - 16+32+33 = 81\n",
    "df_sub['total_synapses'].sum()\n",
    "\n",
    "# sum pre - - 25+7  = 32\n",
    "df_sub['n_pre'].sum()\n",
    "\n",
    "# sum post - - - 16+26+7 = 49\n",
    "df_sub['n_post'].sum()"
   ]
  },
  {
   "cell_type": "markdown",
   "id": "7c7ec98c",
   "metadata": {},
   "source": [
    "For column \"ME_col_01_07\"\n",
    "\n",
    "From \"fetch_neurons\":\n",
    "    pre = 4\n",
    "    post = (5+49+6+14) = 74\n",
    "    all = 78\n",
    "\n",
    "From the query:\n",
    "    pre = 32\n",
    "    post = 74\n",
    "    all = 106\n",
    "\n",
    "- - - > fetch_neurons seems to not count all of the 'pre' synapses... "
   ]
  }
 ],
 "metadata": {
  "kernelspec": {
   "display_name": "Python 3",
   "language": "python",
   "name": "python3"
  },
  "language_info": {
   "codemirror_mode": {
    "name": "ipython",
    "version": 3
   },
   "file_extension": ".py",
   "mimetype": "text/x-python",
   "name": "python",
   "nbconvert_exporter": "python",
   "pygments_lexer": "ipython3",
   "version": "3.13.5"
  }
 },
 "nbformat": 4,
 "nbformat_minor": 5
}
